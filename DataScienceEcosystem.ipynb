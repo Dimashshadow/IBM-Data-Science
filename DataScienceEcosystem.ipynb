{
 "cells": [
  {
   "cell_type": "markdown",
   "id": "c4ab5a47-9eb5-4b9d-97d6-b4c91a30f83d",
   "metadata": {},
   "source": [
    "# Data Science tools and ecosystem"
   ]
  },
  {
   "cell_type": "markdown",
   "id": "11cf1f67-8493-4806-ab6d-26f6f1bebbf8",
   "metadata": {},
   "source": [
    "In this notebook, data science tools and ecosystem are summerised"
   ]
  },
  {
   "cell_type": "markdown",
   "id": "56d0a7f9-b454-40d7-8a0d-f59b43bdf400",
   "metadata": {},
   "source": [
    "Some of the popular language that data scientists use are :\n",
    "1. Python\n",
    "2. R\n",
    "3. SQL\n",
    "4. C++\n",
    "5. Java etc..;"
   ]
  },
  {
   "cell_type": "markdown",
   "id": "339e7d2f-f459-4add-865a-ba22e673073a",
   "metadata": {},
   "source": [
    "Some of the commonly used libraries used by data scientist includes :\n",
    "1. TensorFlow\n",
    "2. Numpy\n",
    "3. SciPy\n",
    "4. Pandas\n",
    "5. Matplotlib\n",
    "6. Keras\n",
    "7. SciKit-Learn\n",
    "8. PyTorch etc..;"
   ]
  },
  {
   "cell_type": "markdown",
   "id": "022f6379-328f-4846-9a72-ba9e6d84e1a2",
   "metadata": {},
   "source": [
    "|Data Science Tools|\n",
    "|---|\n",
    "|SAS|\n",
    "|Apache Hadoop|\n",
    "|Tensor Flow|"
   ]
  },
  {
   "cell_type": "markdown",
   "id": "02ac93c4-527f-4398-8916-6f35b6287774",
   "metadata": {},
   "source": [
    "### Below are few examples of evaluating arithmetic exprssions in Python."
   ]
  },
  {
   "cell_type": "code",
   "execution_count": 17,
   "id": "f109fb07-f199-4df7-b145-e739bf8470f8",
   "metadata": {},
   "outputs": [
    {
     "data": {
      "text/plain": [
       "17"
      ]
     },
     "execution_count": 17,
     "metadata": {},
     "output_type": "execute_result"
    }
   ],
   "source": [
    "#this is a common arithmetic example to multipy and then add integers\n",
    "(3*4)+5"
   ]
  },
  {
   "cell_type": "code",
   "execution_count": 19,
   "id": "7d256c60-4255-4763-8556-abd282d71cbf",
   "metadata": {},
   "outputs": [
    {
     "data": {
      "text/plain": [
       "3.3333333333333335"
      ]
     },
     "execution_count": 19,
     "metadata": {},
     "output_type": "execute_result"
    }
   ],
   "source": [
    "#this will convert 200 minutes to hours by dividing by 60\n",
    "200/60"
   ]
  },
  {
   "cell_type": "markdown",
   "id": "ebd0f795-35e5-4b27-99ba-94a2ce88ca8a",
   "metadata": {},
   "source": [
    "_Objective_\n",
    "* List Popupar languages for data science\n",
    "* List Popupar libraries for data science\n",
    "* List of well known data science tools\n",
    "* How to provide comments in the cell"
   ]
  },
  {
   "cell_type": "markdown",
   "id": "5d7eacc5-cc5f-4dc5-a762-57d181020503",
   "metadata": {},
   "source": [
    "## Author\n",
    "Dimash Kumar Brahma"
   ]
  }
 ],
 "metadata": {
  "kernelspec": {
   "display_name": "Python 3 (ipykernel)",
   "language": "python",
   "name": "python3"
  },
  "language_info": {
   "codemirror_mode": {
    "name": "ipython",
    "version": 3
   },
   "file_extension": ".py",
   "mimetype": "text/x-python",
   "name": "python",
   "nbconvert_exporter": "python",
   "pygments_lexer": "ipython3",
   "version": "3.12.4"
  }
 },
 "nbformat": 4,
 "nbformat_minor": 5
}
